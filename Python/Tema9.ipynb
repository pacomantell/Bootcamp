{
 "cells": [
  {
   "cell_type": "markdown",
   "id": "2691c0e4",
   "metadata": {},
   "source": [
    "# Introducción a la biblioteca estándar de Python y sus funciones built-in."
   ]
  },
  {
   "cell_type": "markdown",
   "id": "d4a455f6",
   "metadata": {},
   "source": [
    "Las funciones built-in son aquellas que nos ofrece el intérprete de Python."
   ]
  },
  {
   "cell_type": "markdown",
   "id": "7af6a1e6",
   "metadata": {},
   "source": [
    "## Librerias de programacion multihilo "
   ]
  },
  {
   "cell_type": "code",
   "execution_count": 9,
   "id": "5404b522",
   "metadata": {},
   "outputs": [
    {
     "name": "stdout",
     "output_type": "stream",
     "text": [
      "He disparado los hilos\n",
      "Hilo: thread_1. Hora: Tue Jul 26 18:11:35 2022\n",
      "Hilo: thread_2. Hora: Tue Jul 26 18:11:36 2022\n"
     ]
    }
   ],
   "source": [
    "import _thread\n",
    "import time\n",
    "\n",
    "def hora_actual(nombre_thread, t_espera):\n",
    "    time.sleep(t_espera)\n",
    "    print(f'Hilo: {nombre_thread}. Hora: {time.ctime(time.time())}')\n",
    "\n",
    "#Indico que se ejecuten dos procesos a la vez\n",
    "_thread.start_new_thread(hora_actual, ('thread_1', 1))\n",
    "_thread.start_new_thread(hora_actual, ('thread_2', 2))\n",
    "\n",
    "print('He disparado los hilos')\n",
    "#bloqueo el programa para que se ejecuten los hilos\n",
    "time.sleep(0.1)"
   ]
  },
  {
   "cell_type": "markdown",
   "id": "9aca2008",
   "metadata": {},
   "source": [
    "## Libreria de entrada de registro\n",
    "\n",
    "Se emplean para ir mostrando mensajes de cómo se va ejecutando el programa en ese momento"
   ]
  },
  {
   "cell_type": "code",
   "execution_count": 21,
   "id": "b50d36d4",
   "metadata": {},
   "outputs": [
    {
     "name": "stderr",
     "output_type": "stream",
     "text": [
      "WARNING:root:Hace calor\n"
     ]
    }
   ],
   "source": [
    "import logging\n",
    "#configuro el loggin para que me muestre todos los mensajes\n",
    "logging.basicConfig(level=logging.INFO)\n",
    "\n",
    "logging.info(\"Arrancando programa\")\n",
    "\n",
    "logging.warning('Hace calor')"
   ]
  },
  {
   "cell_type": "markdown",
   "id": "d63667f1",
   "metadata": {},
   "source": [
    "## Funciones útiles de la librería estándar.\n",
    "\n",
    "### Filtrer"
   ]
  },
  {
   "cell_type": "code",
   "execution_count": 26,
   "id": "02189123",
   "metadata": {},
   "outputs": [
    {
     "name": "stdout",
     "output_type": "stream",
     "text": [
      "[2, 4, 6, 8, 10]\n",
      "[1, 3, 5, 7, 9]\n"
     ]
    }
   ],
   "source": [
    "num = [i for i in range(1,11)]\n",
    "\n",
    "#La función filter necesita una función filtro (que puede ser una lambda) y una lista sobre la que aplicarlo\n",
    "pares = filter(lambda x: x%2 ==0, num)\n",
    "impares = filter(lambda x: x%2 !=0, num)\n",
    "print(list(pares))\n",
    "print(list(impares))"
   ]
  },
  {
   "cell_type": "markdown",
   "id": "08f1f439",
   "metadata": {},
   "source": [
    "### Map\n",
    "\n",
    "Aplica una funcion sobre todos los elementos de una lista"
   ]
  },
  {
   "cell_type": "code",
   "execution_count": 28,
   "id": "e55a3453",
   "metadata": {},
   "outputs": [
    {
     "name": "stdout",
     "output_type": "stream",
     "text": [
      "[1, 4, 9, 16, 25, 36, 49, 64, 81, 100]\n"
     ]
    }
   ],
   "source": [
    "resultado = map(lambda x: x**2, num)\n",
    "\n",
    "print(list(resultado))"
   ]
  },
  {
   "cell_type": "markdown",
   "id": "c9b019a5",
   "metadata": {},
   "source": [
    "### Reduce\n",
    "\n",
    "Ejecuta de forma recursiva una funcion sobre una lista hasta dejarla con un unico elemento."
   ]
  },
  {
   "cell_type": "code",
   "execution_count": 35,
   "id": "2e4a36c7",
   "metadata": {},
   "outputs": [
    {
     "name": "stdout",
     "output_type": "stream",
     "text": [
      "55\n"
     ]
    }
   ],
   "source": [
    "from functools import reduce\n",
    "\n",
    "res = reduce(lambda x,y: x+y, num)\n",
    "\n",
    "print(res)"
   ]
  },
  {
   "cell_type": "markdown",
   "id": "1c18fb73",
   "metadata": {},
   "source": [
    "### Zip\n",
    "\n",
    "Agrega iterables a un par de listas."
   ]
  },
  {
   "cell_type": "code",
   "execution_count": 38,
   "id": "a6589a4f",
   "metadata": {},
   "outputs": [
    {
     "name": "stdout",
     "output_type": "stream",
     "text": [
      "[('Java', 20), ('Python', 15), ('Git', 4)]\n"
     ]
    }
   ],
   "source": [
    "cursos = ['Java', 'Python', 'Git']\n",
    "alumnos = [20, 15, 4]\n",
    "\n",
    "demo = zip(cursos, alumnos)\n",
    "\n",
    "print(list(demo))"
   ]
  },
  {
   "cell_type": "markdown",
   "id": "2b556f53",
   "metadata": {},
   "source": [
    "Si se emplea como argumento en un for, proporciona los indices sobre las dos listas, o sobre una lista de listas"
   ]
  },
  {
   "cell_type": "markdown",
   "id": "d3a923e6",
   "metadata": {},
   "source": [
    "### All y Any\n",
    "\n",
    "Sirven para verificar que todas (all) o alguna (any) condicion impuesta se cumple sobre un iterable"
   ]
  },
  {
   "cell_type": "code",
   "execution_count": 49,
   "id": "7a2745f5",
   "metadata": {},
   "outputs": [
    {
     "data": {
      "text/plain": [
       "False"
      ]
     },
     "execution_count": 49,
     "metadata": {},
     "output_type": "execute_result"
    }
   ],
   "source": [
    "lista = [1==1, 2==2, 3==4]\n",
    "\n",
    "any(lista)\n",
    "all(lista)"
   ]
  }
 ],
 "metadata": {
  "kernelspec": {
   "display_name": "Python 3",
   "language": "python",
   "name": "python3"
  },
  "language_info": {
   "codemirror_mode": {
    "name": "ipython",
    "version": 3
   },
   "file_extension": ".py",
   "mimetype": "text/x-python",
   "name": "python",
   "nbconvert_exporter": "python",
   "pygments_lexer": "ipython3",
   "version": "3.8.8"
  }
 },
 "nbformat": 4,
 "nbformat_minor": 5
}

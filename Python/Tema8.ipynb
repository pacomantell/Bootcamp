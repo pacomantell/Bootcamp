{
 "cells": [
  {
   "cell_type": "markdown",
   "id": "ecf9ff33",
   "metadata": {},
   "source": [
    "# Tema 8: Formatos de entrada y salida."
   ]
  },
  {
   "cell_type": "markdown",
   "id": "46b19430",
   "metadata": {},
   "source": [
    "## 1.- Formateo de una cadena.\n",
    "\n",
    "Consiste en mostrar variables dentro de una cadena. Existen tres formas para poder hacerlo.\n",
    "\n",
    "### Primera Forma.\n",
    "\n",
    "Es la forma más antigua de formatear cadenas (versiones anteriores a 2.7)."
   ]
  },
  {
   "cell_type": "code",
   "execution_count": 9,
   "id": "6fe92782",
   "metadata": {},
   "outputs": [
    {
     "name": "stdout",
     "output_type": "stream",
     "text": [
      "El numero 5 es Federico y tiene 1.21 euros\n",
      "El nombre es Federico\n"
     ]
    }
   ],
   "source": [
    "#Definimos 3 variables: numero, texto y check\n",
    "num = 5\n",
    "text = 'Federico'\n",
    "chec = 1.21\n",
    "\n",
    "#Al imprimirlo, le decimos a Python que deje hueco para un texto(%d), para una string(%s) y para un float(%b)\n",
    "#a continuacion le indicamos que variables debe sustituir en los huecos\n",
    "#el .2 en el hueco del flotante indica la precision de decimales\n",
    "print('El numero %d es %s y tiene %.2f euros' % (num, text, chec))\n",
    "\n",
    "#para un unico valor\n",
    "print('El nombre es %s' % text)"
   ]
  },
  {
   "cell_type": "markdown",
   "id": "3d5e31d5",
   "metadata": {},
   "source": [
    "### Segunda forma\n",
    "\n",
    "Es la más empleada (hasta version 3.6), y se realiza mediante la funcion format"
   ]
  },
  {
   "cell_type": "code",
   "execution_count": 13,
   "id": "d3ba474c",
   "metadata": {},
   "outputs": [
    {
     "name": "stdout",
     "output_type": "stream",
     "text": [
      "El numero 5 es Federico y tiene 1.21 euros\n",
      "El numero Federico es 5 y tiene 1.21 euros\n",
      "El numero 5 es Federico y tiene 1.21 euros\n"
     ]
    }
   ],
   "source": [
    "print('El numero {} es {} y tiene {} euros'\n",
    "      .format(num, text, chec))\n",
    "\n",
    "#Podemos modificar el orden\n",
    "print('El numero {1} es {0} y tiene {2} euros'\n",
    "      .format(num, text, chec))\n",
    "\n",
    "#Tambien podemos asignar una variable(muy empleada junto a la primera)\n",
    "print('El numero {n1} es {n2} y tiene {n3} euros'\n",
    "      .format(n1=num, n2=text, n3=chec))"
   ]
  },
  {
   "cell_type": "markdown",
   "id": "34ff05fe",
   "metadata": {},
   "source": [
    "### Tercera forma.\n",
    "\n",
    "Introducida en las ultimas versiones"
   ]
  },
  {
   "cell_type": "code",
   "execution_count": 17,
   "id": "87c3150f",
   "metadata": {},
   "outputs": [
    {
     "name": "stdout",
     "output_type": "stream",
     "text": [
      "El numero 5 es Federico y tiene 1.21 euros\n",
      "La suma de 2 y 4 es 6 y el nombre en mayuscula es FEDERICO\n"
     ]
    }
   ],
   "source": [
    "print(f'El numero {num} es {text} y tiene {chec} euros')\n",
    "\n",
    "#Se pueden hacer operaciones dentro de las llaves\n",
    "print(f'La suma de 2 y 4 es {2+4} y el nombre en mayuscula es {text.upper()}')"
   ]
  },
  {
   "cell_type": "markdown",
   "id": "0b58a834",
   "metadata": {},
   "source": [
    "## 2.-Representaciones textuales de una clase: str() y repr()"
   ]
  },
  {
   "cell_type": "markdown",
   "id": "2006150a",
   "metadata": {},
   "source": [
    "Ambas sirven para representar textualmente un objeto, pero str() se emplea para generar una salida para el ususario final mientras que repr() se emplea para salidas de depuracion y desarrollo.\n",
    "\n",
    "Si no tenemos str() y tenemos repr() sobrecargados dentro de la clase, se ejecutará por defecto repr(), mientras que si tenemos str() pero no tenemos repr(), se ejecutará la salida por defecto para Python cuando se invoque a la funcion repr()."
   ]
  },
  {
   "cell_type": "code",
   "execution_count": 26,
   "id": "229b3689",
   "metadata": {},
   "outputs": [
    {
     "name": "stdout",
     "output_type": "stream",
     "text": [
      "El juguete es Potato y vale 55.6 euros.\n",
      "El juguete es Potato y vale 55.6 euros.\n",
      "Ahora la salida es Potato con 55.6\n"
     ]
    }
   ],
   "source": [
    "class Juguete:\n",
    "    nombre = ''\n",
    "    precio = 0.0\n",
    "    \n",
    "    def __init__(self, nombre, precio):\n",
    "        self.nombre = nombre\n",
    "        self.precio = precio\n",
    "    \n",
    "    #sobrecargando este metodo puedo representar estos resultados textualmente\n",
    "    def __str__(self):\n",
    "        return f'El juguete es {self.nombre} y vale {self.precio} euros.'\n",
    "    \n",
    "    #tambien podemos sobrecargar el metodo repr\n",
    "    def __repr__(self):\n",
    "        return f'Ahora la salida es {self.nombre} con {self.precio}'\n",
    "\n",
    "j1 = Juguete('Potato', 55.60)\n",
    "\n",
    "#Ahora me muestra directamente la representacion que yo le he dado\n",
    "print(j1)\n",
    "\n",
    "#y con la funcion str() tambien, ademas de poder asignarla a una variable\n",
    "j1_text = str(j1)\n",
    "\n",
    "print(j1_text)\n",
    "# AHora con la salida de repr()\n",
    "print(repr(j1))"
   ]
  },
  {
   "cell_type": "markdown",
   "id": "0a359a4c",
   "metadata": {},
   "source": [
    "## 3.- Metodos de las cadenas de texto."
   ]
  },
  {
   "cell_type": "markdown",
   "id": "5d5353e9",
   "metadata": {},
   "source": [
    "Las cadenas de texto poseen muchos métodos interesantes. Se puede obtener una lista de todos ellos mediante la función dir(). Para ello basta con darle como argumento una cadena vacia (''), e imprimir el resultado por pantalla:"
   ]
  },
  {
   "cell_type": "code",
   "execution_count": 29,
   "id": "9eab4a20",
   "metadata": {},
   "outputs": [
    {
     "name": "stdout",
     "output_type": "stream",
     "text": [
      "['__add__',\n",
      " '__class__',\n",
      " '__contains__',\n",
      " '__delattr__',\n",
      " '__dir__',\n",
      " '__doc__',\n",
      " '__eq__',\n",
      " '__format__',\n",
      " '__ge__',\n",
      " '__getattribute__',\n",
      " '__getitem__',\n",
      " '__getnewargs__',\n",
      " '__gt__',\n",
      " '__hash__',\n",
      " '__init__',\n",
      " '__init_subclass__',\n",
      " '__iter__',\n",
      " '__le__',\n",
      " '__len__',\n",
      " '__lt__',\n",
      " '__mod__',\n",
      " '__mul__',\n",
      " '__ne__',\n",
      " '__new__',\n",
      " '__reduce__',\n",
      " '__reduce_ex__',\n",
      " '__repr__',\n",
      " '__rmod__',\n",
      " '__rmul__',\n",
      " '__setattr__',\n",
      " '__sizeof__',\n",
      " '__str__',\n",
      " '__subclasshook__',\n",
      " 'capitalize',\n",
      " 'casefold',\n",
      " 'center',\n",
      " 'count',\n",
      " 'encode',\n",
      " 'endswith',\n",
      " 'expandtabs',\n",
      " 'find',\n",
      " 'format',\n",
      " 'format_map',\n",
      " 'index',\n",
      " 'isalnum',\n",
      " 'isalpha',\n",
      " 'isascii',\n",
      " 'isdecimal',\n",
      " 'isdigit',\n",
      " 'isidentifier',\n",
      " 'islower',\n",
      " 'isnumeric',\n",
      " 'isprintable',\n",
      " 'isspace',\n",
      " 'istitle',\n",
      " 'isupper',\n",
      " 'join',\n",
      " 'ljust',\n",
      " 'lower',\n",
      " 'lstrip',\n",
      " 'maketrans',\n",
      " 'partition',\n",
      " 'replace',\n",
      " 'rfind',\n",
      " 'rindex',\n",
      " 'rjust',\n",
      " 'rpartition',\n",
      " 'rsplit',\n",
      " 'rstrip',\n",
      " 'split',\n",
      " 'splitlines',\n",
      " 'startswith',\n",
      " 'strip',\n",
      " 'swapcase',\n",
      " 'title',\n",
      " 'translate',\n",
      " 'upper',\n",
      " 'zfill']\n"
     ]
    }
   ],
   "source": [
    "#importamos un modulo que me muestra las listas por linea:\n",
    "import pprint\n",
    "\n",
    "pprint.pprint(dir(''))"
   ]
  },
  {
   "cell_type": "markdown",
   "id": "92c89f1f",
   "metadata": {},
   "source": [
    "Vamos a explorar algunos de los métodos más interesantes:"
   ]
  },
  {
   "cell_type": "code",
   "execution_count": 36,
   "id": "d33a27f8",
   "metadata": {},
   "outputs": [
    {
     "name": "stdout",
     "output_type": "stream",
     "text": [
      "Tengo una vaca lechera\n",
      "Tengo Una Vaca Lechera\n",
      "4\n",
      "['tengo', 'una', 'vaca', 'lechera']\n",
      "False\n",
      "False\n"
     ]
    }
   ],
   "source": [
    "text = 'tengo una vaca lechera'\n",
    "\n",
    "#Pongo la primera letra en mayuscula\n",
    "print(text.capitalize())\n",
    "\n",
    "#Pongo todas las primeras letas en mayuscula:\n",
    "print(text.title())\n",
    "\n",
    "#Cuento el numero de veces que aparece una palabra determinada\n",
    "print(text.count('a'))\n",
    "\n",
    "#Puedo romperla frase en una lista de palabras\n",
    "print(text.split())\n",
    "\n",
    "#puedo comprobar si hay numeros:\n",
    "print(text.isalnum())\n",
    "\n",
    "#o si solo hay letras\n",
    "print(text.isalpha())"
   ]
  },
  {
   "cell_type": "markdown",
   "id": "78a63e64",
   "metadata": {},
   "source": [
    "## 4.- Manipulacion de ficheros"
   ]
  },
  {
   "cell_type": "markdown",
   "id": "3497a7c3",
   "metadata": {},
   "source": [
    "Se emplea la función open:\n",
    "        open(ruta de archivo, permisos)\n",
    "\n",
    "Permisos:\n",
    "- r: lectura. Solo lo vamos a leer, de modo que no podremos escribir en el mismo.\n",
    "- a: append. Puedo escribir pero sólo al final del archivo\n",
    "- w: escritura. Sobreescribo los datos existentes en el archivo cada vez que escriba algo en el.\n",
    "- x: creacion\n",
    "\n",
    "\n",
    "- t: texto. Si el fichero es de texto plano.\n",
    "- b: binary. Si el fichero es binario.\n",
    "\n",
    "Una vez abiero le decimos que lo lea:\n",
    "        datos = f.read()\n",
    "\n",
    "y para cerrarlo:\n",
    "        f.close()\n",
    "\n",
    "Vamos a escribir un fichero nuevo:"
   ]
  },
  {
   "cell_type": "code",
   "execution_count": 41,
   "id": "9cea784a",
   "metadata": {},
   "outputs": [],
   "source": [
    "f = open('ejemplo.txt', 'w')\n",
    "\n",
    "f.write('datos\\n')\n",
    "f.write('datos2\\n')\n",
    "\n",
    "#Creamos una funcion que me escribe en el fichero una lista\n",
    "\n",
    "lista = [f'datos{i}' for i in range(1,100)]\n",
    "\n",
    "def escribe_lista(file, data):\n",
    "    f = open(file, 'w')\n",
    "    \n",
    "    for lin in data:\n",
    "        f.write(f'{lin}\\n')\n",
    "    f.close()\n",
    "\n",
    "escribe_lista('ejemplo2.txt', lista)"
   ]
  },
  {
   "cell_type": "markdown",
   "id": "0a0b6b46",
   "metadata": {},
   "source": [
    "## Serializacion de datos.\n",
    "\n",
    "Consiste en la transformación de los datos de modo que se puedan escribir en un fichero."
   ]
  },
  {
   "cell_type": "markdown",
   "id": "2fd3f4c6",
   "metadata": {},
   "source": [
    "Volvemos a la clase juguete y creamos una instancia:"
   ]
  },
  {
   "cell_type": "code",
   "execution_count": 48,
   "id": "f9446db4",
   "metadata": {},
   "outputs": [
    {
     "name": "stdout",
     "output_type": "stream",
     "text": [
      "Furby\n"
     ]
    }
   ],
   "source": [
    "class Juguete:\n",
    "    nombre = ''\n",
    "    precio = 0.0\n",
    "    \n",
    "    def __init__(self, nombre, precio):\n",
    "        self.nombre = nombre\n",
    "        self.precio = precio\n",
    "    \n",
    "    def getNombre(self):\n",
    "        return self.nombre\n",
    "\n",
    "j2 = Juguete('Furby', 25.50)\n",
    "\n",
    "print(j2.getNombre())"
   ]
  },
  {
   "cell_type": "markdown",
   "id": "b6a78bb7",
   "metadata": {},
   "source": [
    "Importamos el módulo pickle el cual nos permite convertir una representación del programa, es decir, un objeto, a algo que se pueda escribir en un fichero."
   ]
  },
  {
   "cell_type": "code",
   "execution_count": 49,
   "id": "539ffbf3",
   "metadata": {},
   "outputs": [],
   "source": [
    "import pickle as pk\n",
    "\n",
    "f = open('datos.bin', 'wb')\n",
    "\n",
    "pk.dump(j2, f)\n",
    "\n",
    "f.close()"
   ]
  },
  {
   "cell_type": "markdown",
   "id": "bb9be0f5",
   "metadata": {},
   "source": [
    "Ésto resulta útil si, por ejemplo, queremos guardar el progreso de un juego o de cierto programa para recuperarlo en otro momento.\n",
    "\n",
    "Ahora, si queremos recuperar ésos datos:"
   ]
  },
  {
   "cell_type": "code",
   "execution_count": 50,
   "id": "a42e464e",
   "metadata": {},
   "outputs": [
    {
     "name": "stdout",
     "output_type": "stream",
     "text": [
      "Furby\n"
     ]
    }
   ],
   "source": [
    "f = open('datos.bin', 'rb')\n",
    "\n",
    "furby = pk.load(f)\n",
    "f.close()\n",
    "\n",
    "print(furby.getNombre())\n"
   ]
  },
  {
   "cell_type": "markdown",
   "id": "17c99705",
   "metadata": {},
   "source": [
    "Notas:\n",
    "- PyGame: para hacer tus propios juegos."
   ]
  },
  {
   "cell_type": "code",
   "execution_count": null,
   "id": "59ff9640",
   "metadata": {},
   "outputs": [],
   "source": []
  }
 ],
 "metadata": {
  "kernelspec": {
   "display_name": "Python 3",
   "language": "python",
   "name": "python3"
  },
  "language_info": {
   "codemirror_mode": {
    "name": "ipython",
    "version": 3
   },
   "file_extension": ".py",
   "mimetype": "text/x-python",
   "name": "python",
   "nbconvert_exporter": "python",
   "pygments_lexer": "ipython3",
   "version": "3.8.8"
  }
 },
 "nbformat": 4,
 "nbformat_minor": 5
}

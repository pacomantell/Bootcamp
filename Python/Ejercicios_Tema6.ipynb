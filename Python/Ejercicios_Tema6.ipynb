{
 "cells": [
  {
   "cell_type": "markdown",
   "id": "583d0136",
   "metadata": {},
   "source": [
    "# Ejercicios Tema 6\n",
    "\n",
    "## Ejercicio 1\n",
    "\n",
    "En este ejercicio vais a crear la clase Vehículo la cual tendrá los siguientes atributos:\n",
    "\n",
    "- Color\n",
    "\n",
    "- Ruedas\n",
    "\n",
    "- Puertas\n",
    "\n",
    "Por otro lado crearéis la clase Coche la cual heredará de Vehículo y tendrá los siguientes atributos:\n",
    "\n",
    "- Velocidad\n",
    "\n",
    "- Cilindrada\n",
    "\n",
    "Por último, tendrás que crear un objeto de la clase Coche y mostrarlo por consola"
   ]
  },
  {
   "cell_type": "code",
   "execution_count": 15,
   "id": "e23a60db",
   "metadata": {},
   "outputs": [
    {
     "name": "stdout",
     "output_type": "stream",
     "text": [
      "Color: rojo\n",
      "Ruedas:  4\n",
      "Puertas:  5\n",
      "Velocidad:  220\n",
      "Cilindrada:  50\n"
     ]
    }
   ],
   "source": [
    "class Vehiculo:\n",
    "    \n",
    "    color = None\n",
    "    ruedas = None\n",
    "    puertas = None\n",
    "    \n",
    "    def __init__(self, color):\n",
    "        \n",
    "        self.color = color\n",
    "        self.ruedas = 4\n",
    "        self.puertas = 5\n",
    "    \n",
    "class Coche(Vehiculo):\n",
    "    velocidad= 220\n",
    "    cilindrada = 50\n",
    "    \n",
    "c = Coche('rojo')\n",
    "\n",
    "print('Color:', c.color)\n",
    "print('Ruedas: ', c.ruedas)\n",
    "print('Puertas: ', c.puertas)\n",
    "print('Velocidad: ',c.velocidad)\n",
    "print('Cilindrada: ',c.cilindrada)"
   ]
  },
  {
   "cell_type": "markdown",
   "id": "b6530eb7",
   "metadata": {},
   "source": [
    "## Ejercicio 2\n",
    "\n",
    "En este segundo ejercicio, tendréis que crear un programa que tenga una clase llamada Alumno que tenga como atributos su nombre y su nota. Deberéis de definir los métodos para inicializar sus atributos, imprimirlos y mostrar un mensaje con el resultado de la nota y si ha aprobado o no."
   ]
  },
  {
   "cell_type": "code",
   "execution_count": 22,
   "id": "ada56c61",
   "metadata": {},
   "outputs": [
    {
     "name": "stdout",
     "output_type": "stream",
     "text": [
      "Nombre:  Manoliyo Calatrava\n",
      "Nota:  5.5\n",
      "Ha aprobado\n",
      "Nombre:  Pepe Pepote\n",
      "Nota:  4.9\n",
      "Ha suspendido\n"
     ]
    }
   ],
   "source": [
    "class Alumno:\n",
    "    \n",
    "    #Para inicializar atributos empleamos el constructor\n",
    "    \n",
    "    def __init__(self, nombre, nota):\n",
    "        self.nombre = nombre\n",
    "        self.nota = nota\n",
    "        \n",
    "    #metodo que imprime los datos\n",
    "    def imprime(self):\n",
    "        print('Nombre: ', self.nombre)\n",
    "        print('Nota: ', self.nota)\n",
    "        \n",
    "    def aprueba(self):\n",
    "        if (self.nota >=5):\n",
    "            return print('Ha aprobado')\n",
    "        else:\n",
    "            return print('Ha suspendido')\n",
    "        \n",
    "\n",
    "#creo objetos alumno\n",
    "\n",
    "alumno1 = Alumno('Manoliyo Calatrava', 5.5)\n",
    "alumno2 = Alumno('Pepe Pepote', 4.9)\n",
    "\n",
    "#veamos sus datos y si han aprobado\n",
    "\n",
    "alumno1.imprime()\n",
    "alumno1.aprueba()\n",
    "\n",
    "alumno2.imprime()\n",
    "alumno2.aprueba()"
   ]
  },
  {
   "cell_type": "code",
   "execution_count": null,
   "id": "845c8556",
   "metadata": {},
   "outputs": [],
   "source": []
  }
 ],
 "metadata": {
  "kernelspec": {
   "display_name": "Python 3",
   "language": "python",
   "name": "python3"
  },
  "language_info": {
   "codemirror_mode": {
    "name": "ipython",
    "version": 3
   },
   "file_extension": ".py",
   "mimetype": "text/x-python",
   "name": "python",
   "nbconvert_exporter": "python",
   "pygments_lexer": "ipython3",
   "version": "3.8.8"
  }
 },
 "nbformat": 4,
 "nbformat_minor": 5
}

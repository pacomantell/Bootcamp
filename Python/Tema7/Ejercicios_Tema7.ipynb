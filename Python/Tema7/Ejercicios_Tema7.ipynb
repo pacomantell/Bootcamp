{
 "cells": [
  {
   "cell_type": "markdown",
   "id": "6901fd1f",
   "metadata": {},
   "source": [
    "## Ejercicio 2\n",
    "\n",
    "En este segundo ejercicios tendréis que crear un script que nos diga si es la hora de ir a casa. Tendréis que hacer uso del modulo time. Necesitaréis la fecha del sistema y poder comprobar la hora.\n",
    "\n",
    "En el caso de que sean más de las 7, se mostrará un mensaje y en caso contrario, haréis una operación para calcular el tiempo que queda de trabajo."
   ]
  },
  {
   "cell_type": "code",
   "execution_count": 15,
   "id": "ba81067a",
   "metadata": {},
   "outputs": [
    {
     "name": "stdout",
     "output_type": "stream",
     "text": [
      "Quedan 4 horas y 41 minutos para ir a casa.\n"
     ]
    }
   ],
   "source": [
    "import time\n",
    "\n",
    "def get_time():\n",
    "    \n",
    "    horas = time.strftime('%H')\n",
    "    minutos = time.strftime('%M')\n",
    "    \n",
    "    if (int(horas) >= 19):\n",
    "        print('Son las '+ horas + ':' + minutos + '. Es hora de ir a casa.')\n",
    "    else:\n",
    "        print(f'Quedan {18 - int(horas)} horas y {59 - int(minutos)} minutos para ir a casa.')\n",
    "\n",
    "get_time()"
   ]
  },
  {
   "cell_type": "code",
   "execution_count": null,
   "id": "11f1f6c7",
   "metadata": {},
   "outputs": [],
   "source": []
  }
 ],
 "metadata": {
  "kernelspec": {
   "display_name": "Python 3",
   "language": "python",
   "name": "python3"
  },
  "language_info": {
   "codemirror_mode": {
    "name": "ipython",
    "version": 3
   },
   "file_extension": ".py",
   "mimetype": "text/x-python",
   "name": "python",
   "nbconvert_exporter": "python",
   "pygments_lexer": "ipython3",
   "version": "3.8.8"
  }
 },
 "nbformat": 4,
 "nbformat_minor": 5
}

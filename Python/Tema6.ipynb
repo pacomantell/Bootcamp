{
 "cells": [
  {
   "cell_type": "markdown",
   "id": "4b6c537a",
   "metadata": {},
   "source": [
    "# CLASES Y OBJETOS EN PYTHON"
   ]
  },
  {
   "cell_type": "markdown",
   "id": "99b63e72",
   "metadata": {},
   "source": [
    "## Creacion de una clase en Python"
   ]
  },
  {
   "cell_type": "markdown",
   "id": "8d5c6a50",
   "metadata": {},
   "source": [
    "### Clases Dinámicas"
   ]
  },
  {
   "cell_type": "code",
   "execution_count": 34,
   "id": "7157fc57",
   "metadata": {},
   "outputs": [
    {
     "name": "stdout",
     "output_type": "stream",
     "text": [
      "Constructor de juguete\n"
     ]
    }
   ],
   "source": [
    "class Juguete:\n",
    "    def __init__(self):\n",
    "        print('Constructor de juguete')\n",
    "    #Variables de clase\n",
    "    encendido = False\n",
    "    \n",
    "    #Por convenio, si una variable o metodo empieza por guion bajo no debe utilizarse\n",
    "    _color = 'Rojo'\n",
    "    \n",
    "    #Metodos de clase\n",
    "    def enciende(self):\n",
    "        self.encendido = True\n",
    "    \n",
    "    def apaga(self):\n",
    "        self.encendido = False\n",
    "    \n",
    "    def is_encendido(self):\n",
    "        return self.encendido\n",
    "\n",
    "#Creamos una instancia (creamos un objeto)\n",
    "j = Juguete()\n",
    "#empleo un metodo de clase\n",
    "j.enciende()\n",
    "\n",
    "#cambiamos las variables de clase\n",
    "j.encendido = True"
   ]
  },
  {
   "cell_type": "markdown",
   "id": "1d2b0d8b",
   "metadata": {},
   "source": [
    "### Clases Estáticas"
   ]
  },
  {
   "cell_type": "code",
   "execution_count": 8,
   "id": "17158e82",
   "metadata": {},
   "outputs": [],
   "source": [
    "class Estatica:\n",
    "    num = 1\n",
    "    \n",
    "    def incrementa():\n",
    "        Estatica.num += 1\n",
    "\n",
    "#Las clases estáticas no se instancian, de modo que se manipulan siempre las mismas variables \n",
    "Estatica.incrementa()\n"
   ]
  },
  {
   "cell_type": "markdown",
   "id": "3eaf55ef",
   "metadata": {},
   "source": [
    "## Herencia (Relaciones IS-A)\n",
    "\n",
    "Consiste en que una clase hereda variables y propiedades de otra clase"
   ]
  },
  {
   "cell_type": "code",
   "execution_count": 11,
   "id": "b918f015",
   "metadata": {},
   "outputs": [],
   "source": [
    "class Potato(Juguete):\n",
    "    \n",
    "    def quitar_oreja(self):\n",
    "        pass\n",
    "    \n",
    "    def poner_oreja(self):\n",
    "        pass"
   ]
  },
  {
   "cell_type": "markdown",
   "id": "694acc82",
   "metadata": {},
   "source": [
    "Creo un objeto potato, de modo que heredara los metodos y variables de la clase Juguete"
   ]
  },
  {
   "cell_type": "code",
   "execution_count": 17,
   "id": "e77168c1",
   "metadata": {},
   "outputs": [
    {
     "name": "stdout",
     "output_type": "stream",
     "text": [
      "True\n"
     ]
    }
   ],
   "source": [
    "p = Potato()\n",
    "\n",
    "p.enciende()\n",
    "\n",
    "print(p.is_encendido())"
   ]
  },
  {
   "cell_type": "markdown",
   "id": "c2f05283",
   "metadata": {},
   "source": [
    "## Constructor"
   ]
  },
  {
   "cell_type": "code",
   "execution_count": 24,
   "id": "ef6417c3",
   "metadata": {},
   "outputs": [
    {
     "name": "stdout",
     "output_type": "stream",
     "text": [
      "Estoy en el constructor. Jacks\n",
      "Jacks\n"
     ]
    }
   ],
   "source": [
    "class Dino(Juguete):\n",
    "    \n",
    "    nombre = None\n",
    "    \n",
    "    #Constructor\n",
    "    def __init__(self, nombre):\n",
    "        \n",
    "        #Inicializo las variables de la clase\n",
    "        self.nombre = nombre\n",
    "        \n",
    "        print('Estoy en el constructor.', nombre)\n",
    "    \n",
    "    def escamas(self):\n",
    "        pass\n",
    "    \n",
    "dino = Dino('Jacks')\n",
    "\n",
    "print(dino.nombre)"
   ]
  },
  {
   "cell_type": "markdown",
   "id": "b2a6bcbf",
   "metadata": {},
   "source": [
    "Las clases hijas pueden invocar el constructor de las clases padre"
   ]
  },
  {
   "cell_type": "code",
   "execution_count": 35,
   "id": "c5f0cc25",
   "metadata": {},
   "outputs": [
    {
     "name": "stdout",
     "output_type": "stream",
     "text": [
      "Constructor de juguete\n",
      "Estoy en el constructor. Jacks\n"
     ]
    }
   ],
   "source": [
    "class Dino2(Juguete):\n",
    "    \n",
    "    nombre = None\n",
    "    \n",
    "    #Constructor\n",
    "    def __init__(self, nombre):\n",
    "        \n",
    "        #Invoco el constructor de la clase juguete\n",
    "        super().__init__()\n",
    "        \n",
    "        #Inicializo las variables de la clase\n",
    "        self.nombre = nombre\n",
    "        \n",
    "        print('Estoy en el constructor.', nombre)\n",
    "    \n",
    "    def escamas(self):\n",
    "        pass\n",
    "    \n",
    "dino2 = Dino2('Jacks')\n"
   ]
  },
  {
   "cell_type": "markdown",
   "id": "249fc5dc",
   "metadata": {},
   "source": [
    "## Destructor \n",
    "\n",
    "Se ejecuta cuando no hay mas refencias a la clase, aunque se puede forzar su ejecucion"
   ]
  },
  {
   "cell_type": "code",
   "execution_count": 28,
   "id": "40d608d0",
   "metadata": {},
   "outputs": [
    {
     "name": "stdout",
     "output_type": "stream",
     "text": [
      "Estoy en el constructor. Jacks\n",
      "Estoy en el destructor de  <class '__main__.Dino'>\n",
      "Jacks\n",
      "b\n"
     ]
    }
   ],
   "source": [
    "class Dino(Juguete):\n",
    "    \n",
    "    nombre = None\n",
    "    \n",
    "    #Constructor\n",
    "    def __init__(self, nombre):\n",
    "        \n",
    "        #Inicializo las variables de la clase\n",
    "        self.nombre = nombre\n",
    "        \n",
    "        print('Estoy en el constructor.', nombre)\n",
    "        \n",
    "    #Destructor\n",
    "    def __del__(self):\n",
    "        print('Estoy en el destructor de ', self.__class__)\n",
    "    \n",
    "    def escamas(self):\n",
    "        pass\n",
    "    \n",
    "dino = Dino('Jacks')\n",
    "\n",
    "print(dino.nombre)\n",
    "\n",
    "\n",
    "#fuerzo la ejecucion del destructor\n",
    "del(p)\n",
    "\n",
    "\n",
    "print('b')"
   ]
  },
  {
   "cell_type": "markdown",
   "id": "7f6b3c13",
   "metadata": {},
   "source": [
    "## Clases Abstractas\n",
    "\n",
    "Define un conjunto de funciones comunes a varias clases"
   ]
  },
  {
   "cell_type": "code",
   "execution_count": 38,
   "id": "8adee7a0",
   "metadata": {},
   "outputs": [],
   "source": [
    "from abc import ABC, abstractmethod\n",
    "\n",
    "class Animal(ABC):\n",
    "    @abstractmethod\n",
    "    \n",
    "    def sonido(self):\n",
    "        pass\n",
    "\n",
    "\"\"\"Las clases abstractas denifen implementaciones que deben definirse \n",
    "    posteriormente en todas las clases que deriven de ella\"\"\"\n",
    "class Perro(Animal):\n",
    "    \n",
    "    def sonid(self):\n",
    "        print('Guau!')\n",
    "\n",
    "class Gato(Animal):\n",
    "    \n",
    "    def sonido(self):\n",
    "        print('Miau!')"
   ]
  },
  {
   "cell_type": "markdown",
   "id": "171ebd32",
   "metadata": {},
   "source": [
    "## Relaciones HAS-A (Composicion)\n",
    "\n",
    "Se establecen relaciones entre diferentes clases mediante instancias directas, de modo que se establece una jerarquia ordenanda entre todas.\n",
    "\n",
    "Resulta util porque para obtener variables se debe ir nombrando los diferentes metodos segun el orden de la jerarquia (ver los prints)."
   ]
  },
  {
   "cell_type": "code",
   "execution_count": 44,
   "id": "d7aee5a0",
   "metadata": {},
   "outputs": [
    {
     "name": "stdout",
     "output_type": "stream",
     "text": [
      "Motor:  Diesel\n",
      "Ventanas:  5\n",
      "Ruedas:  4\n"
     ]
    }
   ],
   "source": [
    "\n",
    "class Ventana:\n",
    "    cant = 5\n",
    "\n",
    "class Ruedas:\n",
    "    num_rued = 4\n",
    "\n",
    "class Motor:\n",
    "    tipo = 'Diesel'\n",
    "\n",
    "class Carroceria:\n",
    "    ventata = Ventana()\n",
    "    ruedas = Ruedas()\n",
    "\n",
    "class Coche:\n",
    "    motor = Motor()\n",
    "    carroceria = Carroceria()\n",
    "    \n",
    "coche = Coche()\n",
    "\n",
    "print('Motor: ', coche.motor.tipo)\n",
    "print('Ventanas: ', coche.carroceria.ventata.cant)\n",
    "print('Ruedas: ', coche.carroceria.ruedas.num_rued)"
   ]
  }
 ],
 "metadata": {
  "kernelspec": {
   "display_name": "Python 3",
   "language": "python",
   "name": "python3"
  },
  "language_info": {
   "codemirror_mode": {
    "name": "ipython",
    "version": 3
   },
   "file_extension": ".py",
   "mimetype": "text/x-python",
   "name": "python",
   "nbconvert_exporter": "python",
   "pygments_lexer": "ipython3",
   "version": "3.8.8"
  }
 },
 "nbformat": 4,
 "nbformat_minor": 5
}

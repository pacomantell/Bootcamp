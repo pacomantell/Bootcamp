{
 "cells": [
  {
   "cell_type": "markdown",
   "id": "6f72ac70",
   "metadata": {},
   "source": [
    "# Ejercicio 1\n",
    "\n",
    "En este ejercicio, tendréis que crear un archivo py donde creéis un archivo txt, lo abráis y escribáis dentro del archivo. Para ello, tendréis que acceder dos veces al archivo creado."
   ]
  },
  {
   "cell_type": "code",
   "execution_count": 3,
   "id": "ecca3d5d",
   "metadata": {},
   "outputs": [],
   "source": [
    "f = open('ejercicio1.txt', 'w')\n",
    "\n",
    "f.write('Acabamos de crear el archivo\\n')\n",
    "\n",
    "f.close()\n",
    "\n",
    "f2 = open('ejercicio1.txt', 'r+')\n",
    "\n",
    "f2.write('Volvemos a escribir en el archivo\\n')\n",
    "\n",
    "f2.close()"
   ]
  },
  {
   "cell_type": "markdown",
   "id": "9b19a67c",
   "metadata": {},
   "source": [
    "# Ejercicio 2\n",
    "\n",
    "En este segundo ejercicio, tendréis que crear un archivo py y dentro crearéis una clase Vehículo, haréis un objeto de ella, lo guardaréis en un archivo y luego lo cargamos."
   ]
  },
  {
   "cell_type": "code",
   "execution_count": 15,
   "id": "3d0bdea8",
   "metadata": {},
   "outputs": [
    {
     "name": "stdout",
     "output_type": "stream",
     "text": [
      "<class '__main__.Vehiculo'>\n"
     ]
    }
   ],
   "source": [
    "import pickle as pk\n",
    "\n",
    "class Vehiculo:\n",
    "    motor = 'Diesel'\n",
    "    num_puertas = 5\n",
    "    color = 'Negro'\n",
    "    marca = 'Seat'\n",
    "    modelo = 'Leon'\n",
    "    tipo = 'coche'\n",
    "    \n",
    "coche = Vehiculo\n",
    "\n",
    "f = open('ejercicio2.bin', 'w+b')\n",
    "\n",
    "pk.dump(coche, f)\n",
    "\n",
    "f.close()\n",
    "\n",
    "f = open('ejercicio2.bin', 'rb')\n",
    "\n",
    "seat = pk.load(f)\n",
    "\n",
    "print(seat)"
   ]
  },
  {
   "cell_type": "code",
   "execution_count": null,
   "id": "57d564d0",
   "metadata": {},
   "outputs": [],
   "source": []
  }
 ],
 "metadata": {
  "kernelspec": {
   "display_name": "Python 3",
   "language": "python",
   "name": "python3"
  },
  "language_info": {
   "codemirror_mode": {
    "name": "ipython",
    "version": 3
   },
   "file_extension": ".py",
   "mimetype": "text/x-python",
   "name": "python",
   "nbconvert_exporter": "python",
   "pygments_lexer": "ipython3",
   "version": "3.8.8"
  }
 },
 "nbformat": 4,
 "nbformat_minor": 5
}

{
 "cells": [
  {
   "cell_type": "markdown",
   "id": "bcf59f6f",
   "metadata": {},
   "source": [
    "# Ejercicio 1\n",
    "\n",
    "En este ejercicio tenéis que crear una lista de RadioButton que muestre la opción que se ha seleccionado y que contenga un botón de reinicio para que deje todo como al principio.\n",
    "\n",
    "Al principio no tiene que haber una opción seleccionada."
   ]
  },
  {
   "cell_type": "code",
   "execution_count": 21,
   "id": "fabd20ab",
   "metadata": {},
   "outputs": [],
   "source": [
    "import tkinter\n",
    "#Creamos las funciones select y reset\n",
    "def select():\n",
    "    monitor.config(text=f'Opcion {option.get()}')\n",
    "    \n",
    "def reset():\n",
    "    monitor.set(None)\n",
    "    monitor.config(text='')\n",
    "#Creamos ventana\n",
    "win = tkinter.Tk()\n",
    "\n",
    "option = tkinter.IntVar()\n",
    "option.set(None)\n",
    "#Creamos los radiobuttons y los colocamos\n",
    "\n",
    "r1 = tkinter.Radiobutton(win, text='Opcion 1', variable=option, value=1, command=select).pack()\n",
    "r2 = tkinter.Radiobutton(win, text='Opcion 2', variable=option, value=2, command=select).pack()\n",
    "r3 = tkinter.Radiobutton(win, text='Opcion 3', variable=option, value=3, command=select).pack()\n",
    "r4 = tkinter.Radiobutton(win, text='Opcion 4', variable=option, value=4, command=select).pack()\n",
    "r5 = tkinter.Radiobutton(win, text='Opcion 5', variable=option, value=5, command=select).pack()\n",
    "r6 = tkinter.Radiobutton(win, text='Opcion 6', variable=option, value=6, command=select).pack()\n",
    "\n",
    "monitor = tkinter.Label(win)\n",
    "monitor.pack()\n",
    "\n",
    "reset = tkinter.Button(win, text='Reiniciar', command=reset).pack()\n",
    "\n",
    "win.mainloop()"
   ]
  },
  {
   "cell_type": "markdown",
   "id": "34a63d03",
   "metadata": {},
   "source": [
    "# Ejercicio 2\n",
    "\n",
    "En este segundo ejercicio, tendréis que crear una interfaz sencilla la cual debe de contener una lista de elementos seleccionables, también debe de tener un label con el texto que queráis."
   ]
  },
  {
   "cell_type": "code",
   "execution_count": 26,
   "id": "35a2fd08",
   "metadata": {},
   "outputs": [],
   "source": [
    "import tkinter\n",
    "\n",
    "win2 = tkinter.Tk()\n",
    "\n",
    "lista = [f'Persona {i}' for i in range(1,10)]\n",
    "\n",
    "lista_tk = tkinter.StringVar(value=lista)\n",
    "\n",
    "#label\n",
    "label = tkinter.Label(win2, text='Seleccione una persona:').pack()\n",
    "\n",
    "#listbox\n",
    "listbox = tkinter.Listbox(win2, listvariable=lista_tk).pack()\n",
    "\n",
    "win2.mainloop()"
   ]
  },
  {
   "cell_type": "code",
   "execution_count": null,
   "id": "1f5bd292",
   "metadata": {},
   "outputs": [],
   "source": []
  }
 ],
 "metadata": {
  "kernelspec": {
   "display_name": "Python 3",
   "language": "python",
   "name": "python3"
  },
  "language_info": {
   "codemirror_mode": {
    "name": "ipython",
    "version": 3
   },
   "file_extension": ".py",
   "mimetype": "text/x-python",
   "name": "python",
   "nbconvert_exporter": "python",
   "pygments_lexer": "ipython3",
   "version": "3.8.8"
  }
 },
 "nbformat": 4,
 "nbformat_minor": 5
}

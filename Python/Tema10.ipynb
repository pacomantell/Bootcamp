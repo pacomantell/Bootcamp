{
 "cells": [
  {
   "cell_type": "markdown",
   "id": "8431d7ce",
   "metadata": {},
   "source": [
    "# Interfaces Gráficas de Usuario (GUI)."
   ]
  },
  {
   "cell_type": "markdown",
   "id": "c62cb798",
   "metadata": {},
   "source": [
    "Es posible construir interfaces gráficas sencillas en Python sin mucho esfuerzo.\n",
    "\n",
    "Para ello, vamos a hacer uso del paquete tkinter, el cual viene de serie con Python.\n",
    "\n",
    "Éste paquete lo que hace es llevar los parámetros de entrada en Python a un intérprete que lanza una interfaz en codigo tcl/tk."
   ]
  },
  {
   "cell_type": "markdown",
   "id": "8a592746",
   "metadata": {},
   "source": [
    "## Ventanas\n",
    "\n",
    "### Geometría pack\n",
    "\n",
    "Me permite posicionar los widgets por posiciones (sides) y formar composicones"
   ]
  },
  {
   "cell_type": "code",
   "execution_count": 37,
   "id": "de583d2f",
   "metadata": {},
   "outputs": [],
   "source": [
    "import tkinter\n",
    "\n",
    "#Creamos una ventana, que es un objeto de la clase tkinter que va a contener nuestros elementos de la interfaz\n",
    "window = tkinter.Tk()\n",
    "\n",
    "#Definimos los diferentes widgets que van a aparecer en la ventana\n",
    "#Etiqueta de texto, con color de fondo y de texto\n",
    "\n",
    "label_saludo = tkinter.Label(window, text='Hola', bg= 'yellow', fg='blue')\n",
    "\n",
    "label_adios = tkinter.Label(window, text = 'Adios', bg='cyan', fg='red')\n",
    "\n",
    "\n",
    "#mostramos la etiqueta saludo mediante las geometrias, en este caso usamos la geometría pack\n",
    "#Podemos ajustar el tamaño de la etiqueta con ipadx e ipady\n",
    "#Con el parametro fill controlamos que el widget se ajuste al tamaño de la ventana al cambiarla\n",
    "#Si añadimos expand=True, se ajusta a la ventana quedandose centrada\n",
    "#Con side podemos posicionarla en pantalla\n",
    "\n",
    "label_saludo.pack(ipadx=50, ipady=25, fill='both', side='left', expand=True)\n",
    "label_adios.pack(ipadx=50, ipady=25, fill='both', side='right', expand=True)\n",
    "\n",
    "#Abrimos la ventana\n",
    "window.mainloop()\n"
   ]
  },
  {
   "cell_type": "markdown",
   "id": "ffd551fd",
   "metadata": {},
   "source": [
    "### Geoetria mediante un grid.\n",
    "\n",
    "Es la más empleada y consiste en formar composicones mediante una matriz de posiciones."
   ]
  },
  {
   "cell_type": "code",
   "execution_count": 83,
   "id": "766acc60",
   "metadata": {},
   "outputs": [],
   "source": [
    "\n",
    "#Modulo para dar formato\n",
    "from tkinter import ttk\n",
    "\n",
    "window2 = tkinter.Tk()\n",
    "\n",
    "#Configuramos el grid\n",
    "#El weight es el numero de filas que voy a introducir\n",
    "window2.columnconfigure(0, weight=3)\n",
    "\n",
    "#creamos etiquetas\n",
    "label1 = ttk.Label(window2, text='Username:')\n",
    "label2 = ttk.Label(window2, text='Password:')\n",
    "\n",
    "#Pedimos una entrada de texto\n",
    "entry1 = ttk.Entry(window2)\n",
    "entry2 = ttk.Entry(window2, show='*')\n",
    "\n",
    "#Creamos un boton que me envie los datos introducidos\n",
    "#con command podemos ordenarle alguna accion al pulsar el boton\n",
    "#El metodo get me devuelve el texto introducido\n",
    "button1 = ttk.Button(window2, text='Send', command=lambda: print(entry1.get(), entry2.get()))\n",
    "\n",
    "#Mostramos en el grid\n",
    "#Sticky me fija el label en la ventana, para que cunado cambie no se vaya a otra\n",
    "#Con padx y pady asignamos los margenes del label\n",
    "label1.grid(column=0, row=0, sticky=tkinter.W, padx=5, pady=5)\n",
    "label2.grid(column=0, row=1, sticky=tkinter.W, padx=5, pady=5)\n",
    "\n",
    "entry1.grid(column=1, row=0, sticky=tkinter.E, padx=5, pady=5)\n",
    "entry2.grid(column=1, row=1, sticky=tkinter.E, padx=5, pady=5)\n",
    "\n",
    "button1.grid(column=1, row=2, sticky=tkinter.E, padx=5, pady=5)\n",
    "\n",
    "#Muestro los datos introducidos\n",
    "\n",
    "window2.mainloop()"
   ]
  },
  {
   "cell_type": "markdown",
   "id": "5778daca",
   "metadata": {},
   "source": [
    "### Geometria Place\n",
    "\n",
    "Se trata en un posicionamiento exacto en la ventana, con coordenadas.\n",
    "\n",
    "No suele emplearse mucho."
   ]
  },
  {
   "cell_type": "code",
   "execution_count": 87,
   "id": "3ba9b975",
   "metadata": {},
   "outputs": [],
   "source": [
    "window3 = tkinter.Tk()\n",
    "\n",
    "label1 = ttk.Label(window3, text='Username:')\n",
    "label2 = ttk.Label(window3, text='Password:')\n",
    "\n",
    "label1.place(x=10, y=50)\n",
    "label2.place(x=10, y=70)\n",
    "\n",
    "window3.mainloop()"
   ]
  },
  {
   "cell_type": "markdown",
   "id": "61bf8ce3",
   "metadata": {},
   "source": [
    "#### Creacion de una ventana con etiquetas aleatorias"
   ]
  },
  {
   "cell_type": "code",
   "execution_count": 93,
   "id": "17785129",
   "metadata": {},
   "outputs": [],
   "source": [
    "import random\n",
    "\n",
    "window4 = tkinter.Tk()\n",
    "\n",
    "colors = ['blue', 'red', 'yellow', 'purple', 'green', 'black']\n",
    "\n",
    "for i in range(0,10):\n",
    "    color = random.randint(0, len(colors)-1)\n",
    "    color2 = random.randint(0, len(colors)-1)\n",
    "    \n",
    "    labeli = tkinter.Label(window4, text=f'Etiqueta {i}', bg=colors[color], fg=colors[color2])\n",
    "    \n",
    "    labeli.place(x=random.randint(0,100), y=random.randint(0,100))\n",
    "    \n",
    "window4.mainloop()"
   ]
  },
  {
   "cell_type": "markdown",
   "id": "3875f079",
   "metadata": {},
   "source": [
    "## Componentes (Widgets)"
   ]
  },
  {
   "cell_type": "markdown",
   "id": "e059ab82",
   "metadata": {},
   "source": [
    "## Frames.\n",
    "\n",
    "Son como subventanas"
   ]
  },
  {
   "cell_type": "code",
   "execution_count": 100,
   "id": "0869e62f",
   "metadata": {},
   "outputs": [],
   "source": [
    "win = tkinter.Tk()\n",
    "\n",
    "win.columnconfigure(0, weight=3)\n",
    "\n",
    "#Creamos el frame dentro de una ventana\n",
    "frame = ttk.Frame(win)\n",
    "\n",
    "#Le asignamos unos margenes\n",
    "frame['relief'] = 'sunken'\n",
    "\n",
    "frame.grid(column=0,row=0,sticky=tkinter.W)\n",
    "\n",
    "#Le introducimos en un label\n",
    "label = ttk.Label(frame, text='hola')\n",
    "\n",
    "label.grid(column=0,row=0,sticky=tkinter.W)\n",
    "win.mainloop()"
   ]
  },
  {
   "cell_type": "markdown",
   "id": "0d5be823",
   "metadata": {},
   "source": [
    "### Listbox"
   ]
  },
  {
   "cell_type": "code",
   "execution_count": 108,
   "id": "941eeb7e",
   "metadata": {},
   "outputs": [
    {
     "name": "stdout",
     "output_type": "stream",
     "text": [
      "['opcion 1', 'opcion 2', 'opcion 3', 'opcion 4', 'opcion 5', 'opcion 6', 'opcion 7', 'opcion 8', 'opcion 9', 'opcion 10']\n"
     ]
    }
   ],
   "source": [
    "win2 = tkinter.Tk()\n",
    "\n",
    "win2.columnconfigure(0, weight=3)\n",
    "\n",
    "#Creamos una lista\n",
    "lista = [f'opcion {i}' for i in range(1,11)]\n",
    "print(lista)\n",
    "\n",
    "#Laconvertimos en un formato legible para tkinter\n",
    "list_tk = tkinter.StringVar(value=lista)\n",
    "\n",
    "#Creamos el Lostbox\n",
    "listbox = tkinter.Listbox(win2, height=50, listvariable=list_tk)\n",
    "\n",
    "listbox.grid(column=0,row=0,sticky=tkinter.W)\n",
    "win2.mainloop()"
   ]
  },
  {
   "cell_type": "code",
   "execution_count": null,
   "id": "9653e711",
   "metadata": {},
   "outputs": [],
   "source": []
  }
 ],
 "metadata": {
  "kernelspec": {
   "display_name": "Python 3",
   "language": "python",
   "name": "python3"
  },
  "language_info": {
   "codemirror_mode": {
    "name": "ipython",
    "version": 3
   },
   "file_extension": ".py",
   "mimetype": "text/x-python",
   "name": "python",
   "nbconvert_exporter": "python",
   "pygments_lexer": "ipython3",
   "version": "3.8.8"
  }
 },
 "nbformat": 4,
 "nbformat_minor": 5
}

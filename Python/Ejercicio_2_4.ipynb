{
 "cells": [
  {
   "cell_type": "markdown",
   "id": "38777671",
   "metadata": {},
   "source": [
    "# Ejercicios Estructuras de control\n",
    "\n",
    "## Ejercicio 1\n",
    "\n",
    "Escribe un programa que pregunte al usuario su edad y muestre por pantalla si es mayor de edad o no."
   ]
  },
  {
   "cell_type": "markdown",
   "id": "c3eb1351",
   "metadata": {},
   "source": [
    "## Ejercicio 2\n",
    "\n",
    "Escribe un programa capaz de mostrar todos los números impares desde un número de inicio y otro final.\n",
    "\n",
    "Por ejemplo: teniendo numero_inicial = 2 y numero_final = 8, el programa debe imprimir por consola: [3, 5, 7]"
   ]
  },
  {
   "cell_type": "code",
   "execution_count": 10,
   "id": "b0c8d1fa",
   "metadata": {},
   "outputs": [],
   "source": [
    "def impares(inic, fin):\n",
    "    lista = []\n",
    "    \n",
    "    for i in range(inic, fin):\n",
    "        if (i % 2 != 0):\n",
    "            lista.append(i)\n",
    "    \n",
    "    return print(lista)"
   ]
  },
  {
   "cell_type": "code",
   "execution_count": 12,
   "id": "886103ff",
   "metadata": {},
   "outputs": [
    {
     "name": "stdout",
     "output_type": "stream",
     "text": [
      "[3, 5, 7, 9, 11, 13, 15, 17]\n"
     ]
    }
   ],
   "source": [
    "impares(2,19)"
   ]
  },
  {
   "cell_type": "code",
   "execution_count": null,
   "id": "831aafa2",
   "metadata": {},
   "outputs": [],
   "source": []
  }
 ],
 "metadata": {
  "kernelspec": {
   "display_name": "Python 3",
   "language": "python",
   "name": "python3"
  },
  "language_info": {
   "codemirror_mode": {
    "name": "ipython",
    "version": 3
   },
   "file_extension": ".py",
   "mimetype": "text/x-python",
   "name": "python",
   "nbconvert_exporter": "python",
   "pygments_lexer": "ipython3",
   "version": "3.8.8"
  }
 },
 "nbformat": 4,
 "nbformat_minor": 5
}

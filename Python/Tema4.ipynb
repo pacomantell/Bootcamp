{
 "cells": [
  {
   "cell_type": "markdown",
   "id": "f54501ee",
   "metadata": {},
   "source": [
    "# Ejercicios Estructuras de control\n",
    "\n",
    "## Ejercicio 1\n",
    "\n",
    "Escribe un programa que pregunte al usuario su edad y muestre por pantalla si es mayor de edad o no."
   ]
  },
  {
   "cell_type": "code",
   "execution_count": 2,
   "id": "0eac8966",
   "metadata": {},
   "outputs": [],
   "source": [
    "def mayor_edad():\n",
    "    edad = float(input('Introduzca su edad:'))\n",
    "    \n",
    "    if(edad > 18):\n",
    "        print('Es mayor de edad')\n",
    "    else:\n",
    "        print('Es menor de edad')\n",
    "    return\n"
   ]
  },
  {
   "cell_type": "code",
   "execution_count": 3,
   "id": "e6460a7b",
   "metadata": {},
   "outputs": [
    {
     "name": "stdout",
     "output_type": "stream",
     "text": [
      "Introduzca su edad:28\n",
      "Es mayor de edad\n"
     ]
    }
   ],
   "source": [
    "mayor_edad()"
   ]
  },
  {
   "cell_type": "code",
   "execution_count": null,
   "id": "f85118a7",
   "metadata": {},
   "outputs": [],
   "source": []
  }
 ],
 "metadata": {
  "kernelspec": {
   "display_name": "Python 3",
   "language": "python",
   "name": "python3"
  },
  "language_info": {
   "codemirror_mode": {
    "name": "ipython",
    "version": 3
   },
   "file_extension": ".py",
   "mimetype": "text/x-python",
   "name": "python",
   "nbconvert_exporter": "python",
   "pygments_lexer": "ipython3",
   "version": "3.8.8"
  }
 },
 "nbformat": 4,
 "nbformat_minor": 5
}

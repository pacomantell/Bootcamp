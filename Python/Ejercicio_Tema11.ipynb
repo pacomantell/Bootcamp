{
 "cells": [
  {
   "cell_type": "markdown",
   "id": "9f9bb7ca",
   "metadata": {},
   "source": [
    "En este ejercicio tendréis que crear una tabla llamada Alumnos que constará de tres columnas: la columna id de tipo entero, la columna nombre que será de tipo texto y la columna apellido que también será de tipo texto.\n",
    "\n",
    "Una vez creada la tabla, tenéis que insertarle datos, como mínimo tenéis que insertar 8 alumnos a la tabla.\n",
    "\n",
    "Por último, tienes que realizar una búsqueda de un alumno por nombre y mostrar los datos por consola."
   ]
  },
  {
   "cell_type": "code",
   "execution_count": 15,
   "id": "f4385473",
   "metadata": {},
   "outputs": [
    {
     "name": "stdout",
     "output_type": "stream",
     "text": [
      "[(5, 'nombre 5', 'apellido 5')]\n"
     ]
    }
   ],
   "source": [
    "import sqlite3\n",
    "\n",
    "conn = sqlite3.connect('ejercicio_t11.db')\n",
    "\n",
    "cursor = conn.cursor()\n",
    "\n",
    "#Creamos la tabla\n",
    "\n",
    "cursor.execute('CREATE TABLE IF NOT EXISTS alumnos(id INT PRIMARY KEY, nombre TEXT, apellido TEXT);')\n",
    "\n",
    "#Rellenamos la tabla\n",
    "\n",
    "for i in range(10):\n",
    "    cursor.execute(f\"INSERT INTO alumnos(id, nombre, apellido) VALUES({i}, 'nombre {i}', 'apellido {i}');\")\n",
    "\n",
    "#Actualizamos\n",
    "conn.commit()\n",
    "\n",
    "#Buscamos un alumno por su nombre\n",
    "fila = cursor.execute(\"SELECT * FROM alumnos WHERE nombre='nombre 5';\")\n",
    "\n",
    "fila = cursor.fetchall()\n",
    "\n",
    "#muestro por pantalla\n",
    "print(fila)\n",
    "\n",
    "#cierro conexiones\n",
    "cursor.close()\n",
    "conn.close()"
   ]
  },
  {
   "cell_type": "code",
   "execution_count": null,
   "id": "c3655ba5",
   "metadata": {},
   "outputs": [],
   "source": []
  }
 ],
 "metadata": {
  "kernelspec": {
   "display_name": "Python 3",
   "language": "python",
   "name": "python3"
  },
  "language_info": {
   "codemirror_mode": {
    "name": "ipython",
    "version": 3
   },
   "file_extension": ".py",
   "mimetype": "text/x-python",
   "name": "python",
   "nbconvert_exporter": "python",
   "pygments_lexer": "ipython3",
   "version": "3.8.8"
  }
 },
 "nbformat": 4,
 "nbformat_minor": 5
}

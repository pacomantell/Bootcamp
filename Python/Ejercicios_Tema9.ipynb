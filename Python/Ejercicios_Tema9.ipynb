{
 "cells": [
  {
   "cell_type": "markdown",
   "id": "8fa79cab",
   "metadata": {},
   "source": [
    "# Ejercicio 1\n",
    "\n",
    "Crea un script que le pida al usuario una lista de países (separados por comas). Éstos se deben almacenar en una lista. No debería haber países repetidos (haz uso de set). Finalmente, muestra por consola la lista de países ordenados alfabéticamente y separados por comas."
   ]
  },
  {
   "cell_type": "code",
   "execution_count": 7,
   "id": "3cfa0768",
   "metadata": {},
   "outputs": [
    {
     "name": "stdout",
     "output_type": "stream",
     "text": [
      "Introduce una lista de paises separados por coma:españa, italia, suiza, francia, suiza, portugal, congo, italia\n",
      "congo, españa, francia, italia, portugal, suiza\n"
     ]
    }
   ],
   "source": [
    "paises = input('Introduce una lista de paises separados por coma:')\n",
    "\n",
    "lista_paises = paises.split(', ')\n",
    "\n",
    "#elimino posibles paises repetidos\n",
    "lista_p = set(lista_paises)\n",
    "\n",
    "print(', '.join(sorted(lista_p)))"
   ]
  },
  {
   "cell_type": "markdown",
   "id": "f89f7f37",
   "metadata": {},
   "source": [
    "# Ejercicio 2\n",
    "\n",
    "En este segundo ejercicio, tenéis que crear una aplicación que obtendrá los elementos impares de una lista pasada por parámetro con filter y realizará una suma de todos estos elementos obtenidos mediante reduce."
   ]
  },
  {
   "cell_type": "code",
   "execution_count": 8,
   "id": "94f01935",
   "metadata": {},
   "outputs": [
    {
     "name": "stdout",
     "output_type": "stream",
     "text": [
      "2500\n"
     ]
    }
   ],
   "source": [
    "from functools import reduce\n",
    "lista = [i for i in range(1,101)]\n",
    "\n",
    "impares = filter(lambda x: x%2 !=0, lista)\n",
    "\n",
    "suma = reduce(lambda x,y: x+y, impares)\n",
    "\n",
    "print(suma)"
   ]
  },
  {
   "cell_type": "code",
   "execution_count": null,
   "id": "11e1d707",
   "metadata": {},
   "outputs": [],
   "source": []
  }
 ],
 "metadata": {
  "kernelspec": {
   "display_name": "Python 3",
   "language": "python",
   "name": "python3"
  },
  "language_info": {
   "codemirror_mode": {
    "name": "ipython",
    "version": 3
   },
   "file_extension": ".py",
   "mimetype": "text/x-python",
   "name": "python",
   "nbconvert_exporter": "python",
   "pygments_lexer": "ipython3",
   "version": "3.8.8"
  }
 },
 "nbformat": 4,
 "nbformat_minor": 5
}
